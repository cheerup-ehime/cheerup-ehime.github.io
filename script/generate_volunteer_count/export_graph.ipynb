{
 "cells": [
  {
   "cell_type": "code",
   "execution_count": 32,
   "metadata": {
    "ExecuteTime": {
     "end_time": "2018-07-21T11:29:21.813815Z",
     "start_time": "2018-07-21T11:29:21.739542Z"
    }
   },
   "outputs": [],
   "source": [
    "import pandas as pd\n",
    "import numpy as np\n",
    "import matplotlib\n",
    "import matplotlib.pyplot as plt\n",
    "import matplotlib.dates as mdates\n",
    "import seaborn as sns\n",
    "import datetime as dt\n",
    "from IPython.core.interactiveshell import InteractiveShell\n",
    "InteractiveShell.ast_node_interactivity = \"all\"\n",
    "%matplotlib inline\n",
    "font = {'family': 'IPAexGothic'}\n",
    "matplotlib.rc('font', **font)\n",
    "import os\n",
    "import gspread as gs\n",
    "\n",
    "from oauth2client.service_account import ServiceAccountCredentials\n"
   ]
  },
  {
   "cell_type": "code",
   "execution_count": 33,
   "metadata": {
    "ExecuteTime": {
     "end_time": "2018-07-21T11:29:21.844189Z",
     "start_time": "2018-07-21T11:29:21.835260Z"
    }
   },
   "outputs": [],
   "source": [
    "def create_google_client(path):\n",
    "    scope = ['https://spreadsheets.google.com/feeds']\n",
    "    path = os.path.expanduser(path)\n",
    "    credentials = ServiceAccountCredentials.from_json_keyfile_name(path, scope)\n",
    "    client = gs.authorize(credentials)\n",
    "    return client\n"
   ]
  },
  {
   "cell_type": "code",
   "execution_count": 34,
   "metadata": {
    "ExecuteTime": {
     "end_time": "2018-07-21T11:29:24.790503Z",
     "start_time": "2018-07-21T11:29:21.882900Z"
    }
   },
   "outputs": [
    {
     "data": {
      "text/html": [
       "<div>\n",
       "<style scoped>\n",
       "    .dataframe tbody tr th:only-of-type {\n",
       "        vertical-align: middle;\n",
       "    }\n",
       "\n",
       "    .dataframe tbody tr th {\n",
       "        vertical-align: top;\n",
       "    }\n",
       "\n",
       "    .dataframe thead th {\n",
       "        text-align: right;\n",
       "    }\n",
       "</style>\n",
       "<table border=\"1\" class=\"dataframe\">\n",
       "  <thead>\n",
       "    <tr style=\"text-align: right;\">\n",
       "      <th></th>\n",
       "      <th>Date</th>\n",
       "      <th>今治市</th>\n",
       "      <th>宇和島市</th>\n",
       "      <th>大洲市</th>\n",
       "      <th>西予市</th>\n",
       "      <th>松野町</th>\n",
       "      <th>鬼北町</th>\n",
       "      <th>松山市</th>\n",
       "      <th>八幡浜市</th>\n",
       "    </tr>\n",
       "  </thead>\n",
       "  <tbody>\n",
       "    <tr>\n",
       "      <th>0</th>\n",
       "      <td>2018-07-10</td>\n",
       "      <td></td>\n",
       "      <td>35</td>\n",
       "      <td>82</td>\n",
       "      <td></td>\n",
       "      <td></td>\n",
       "      <td></td>\n",
       "      <td></td>\n",
       "      <td></td>\n",
       "    </tr>\n",
       "    <tr>\n",
       "      <th>1</th>\n",
       "      <td>2018-07-11</td>\n",
       "      <td>71</td>\n",
       "      <td>76</td>\n",
       "      <td>177</td>\n",
       "      <td>201</td>\n",
       "      <td></td>\n",
       "      <td>9</td>\n",
       "      <td>85</td>\n",
       "      <td>7</td>\n",
       "    </tr>\n",
       "    <tr>\n",
       "      <th>2</th>\n",
       "      <td>2018-07-12</td>\n",
       "      <td>50</td>\n",
       "      <td>74</td>\n",
       "      <td>284</td>\n",
       "      <td>180</td>\n",
       "      <td>13</td>\n",
       "      <td>12</td>\n",
       "      <td>38</td>\n",
       "      <td>8</td>\n",
       "    </tr>\n",
       "    <tr>\n",
       "      <th>3</th>\n",
       "      <td>2018-07-13</td>\n",
       "      <td>41</td>\n",
       "      <td>198</td>\n",
       "      <td>333</td>\n",
       "      <td>267</td>\n",
       "      <td>33</td>\n",
       "      <td>9</td>\n",
       "      <td>87</td>\n",
       "      <td>15</td>\n",
       "    </tr>\n",
       "    <tr>\n",
       "      <th>4</th>\n",
       "      <td>2018-07-14</td>\n",
       "      <td>131</td>\n",
       "      <td>415</td>\n",
       "      <td>587</td>\n",
       "      <td>823</td>\n",
       "      <td>27</td>\n",
       "      <td>88</td>\n",
       "      <td>309</td>\n",
       "      <td>50</td>\n",
       "    </tr>\n",
       "    <tr>\n",
       "      <th>5</th>\n",
       "      <td>2018-07-15</td>\n",
       "      <td>126</td>\n",
       "      <td>374</td>\n",
       "      <td>1099</td>\n",
       "      <td>1081</td>\n",
       "      <td>44</td>\n",
       "      <td>56</td>\n",
       "      <td>262</td>\n",
       "      <td>36</td>\n",
       "    </tr>\n",
       "    <tr>\n",
       "      <th>6</th>\n",
       "      <td>2018-07-16</td>\n",
       "      <td>102</td>\n",
       "      <td>305</td>\n",
       "      <td>491</td>\n",
       "      <td>591</td>\n",
       "      <td>37</td>\n",
       "      <td>50</td>\n",
       "      <td>232</td>\n",
       "      <td>29</td>\n",
       "    </tr>\n",
       "    <tr>\n",
       "      <th>7</th>\n",
       "      <td>2018-07-17</td>\n",
       "      <td>37</td>\n",
       "      <td>157</td>\n",
       "      <td>222</td>\n",
       "      <td>210</td>\n",
       "      <td>4</td>\n",
       "      <td>3</td>\n",
       "      <td>100</td>\n",
       "      <td></td>\n",
       "    </tr>\n",
       "    <tr>\n",
       "      <th>8</th>\n",
       "      <td>2018-07-18</td>\n",
       "      <td>37</td>\n",
       "      <td>241</td>\n",
       "      <td>205</td>\n",
       "      <td>149</td>\n",
       "      <td>4</td>\n",
       "      <td>0</td>\n",
       "      <td>88</td>\n",
       "      <td>14</td>\n",
       "    </tr>\n",
       "    <tr>\n",
       "      <th>9</th>\n",
       "      <td>2018-07-19</td>\n",
       "      <td>58</td>\n",
       "      <td>190</td>\n",
       "      <td>174</td>\n",
       "      <td>294</td>\n",
       "      <td>8</td>\n",
       "      <td>0</td>\n",
       "      <td>89</td>\n",
       "      <td>14</td>\n",
       "    </tr>\n",
       "    <tr>\n",
       "      <th>10</th>\n",
       "      <td>2018-07-20</td>\n",
       "      <td>44</td>\n",
       "      <td>128</td>\n",
       "      <td>175</td>\n",
       "      <td>177</td>\n",
       "      <td>10</td>\n",
       "      <td>0</td>\n",
       "      <td>102</td>\n",
       "      <td>5</td>\n",
       "    </tr>\n",
       "    <tr>\n",
       "      <th>11</th>\n",
       "      <td>2018-07-21</td>\n",
       "      <td>105</td>\n",
       "      <td>470</td>\n",
       "      <td>408</td>\n",
       "      <td>305</td>\n",
       "      <td>21</td>\n",
       "      <td>0</td>\n",
       "      <td>115</td>\n",
       "      <td>0</td>\n",
       "    </tr>\n",
       "  </tbody>\n",
       "</table>\n",
       "</div>"
      ],
      "text/plain": [
       "          Date  今治市 宇和島市   大洲市   西予市 松野町 鬼北町  松山市 八幡浜市\n",
       "0   2018-07-10        35    82                        \n",
       "1   2018-07-11   71   76   177   201       9   85    7\n",
       "2   2018-07-12   50   74   284   180  13  12   38    8\n",
       "3   2018-07-13   41  198   333   267  33   9   87   15\n",
       "4   2018-07-14  131  415   587   823  27  88  309   50\n",
       "5   2018-07-15  126  374  1099  1081  44  56  262   36\n",
       "6   2018-07-16  102  305   491   591  37  50  232   29\n",
       "7   2018-07-17   37  157   222   210   4   3  100     \n",
       "8   2018-07-18   37  241   205   149   4   0   88   14\n",
       "9   2018-07-19   58  190   174   294   8   0   89   14\n",
       "10  2018-07-20   44  128   175   177  10   0  102    5\n",
       "11  2018-07-21  105  470   408   305  21   0  115    0"
      ]
     },
     "execution_count": 34,
     "metadata": {},
     "output_type": "execute_result"
    }
   ],
   "source": [
    "\n",
    "path = '/Users/kkd/.credential/Dataprep-770b3144dc97.json'\n",
    "doc_url = 'https://docs.google.com/spreadsheets/d/1h-GFHoNa55P96wu_HNbPk899eN4HZcnu1T9q4eag8Uc/edit?usp=sharing'\n",
    "\n",
    "client = create_google_client(path)\n",
    "gfile = client.open_by_url(doc_url)\n",
    "worksheet = gfile.worksheet('volunteer')\n",
    "records = worksheet.get_all_values()\n",
    "cols_name = records[0]\n",
    "data = records[1:]\n",
    "df = pd.DataFrame(data=data, columns=cols_name)\n",
    "df"
   ]
  },
  {
   "cell_type": "markdown",
   "metadata": {},
   "source": [
    "## Excelデータを元にグラフを出力\n",
    "\n",
    "Excelファイルは[Google Drive](https://docs.google.com/spreadsheets/d/1h-GFHoNa55P96wu_HNbPk899eN4HZcnu1T9q4eag8Uc/edit#gid=0)からダウンロードした後で読み込んでいる。\n",
    "(直接読み込むようにしたい。。。）"
   ]
  },
  {
   "cell_type": "code",
   "execution_count": 36,
   "metadata": {
    "ExecuteTime": {
     "end_time": "2018-07-21T11:29:54.511213Z",
     "start_time": "2018-07-21T11:29:53.580105Z"
    }
   },
   "outputs": [
    {
     "data": {
      "text/html": [
       "<div>\n",
       "<style scoped>\n",
       "    .dataframe tbody tr th:only-of-type {\n",
       "        vertical-align: middle;\n",
       "    }\n",
       "\n",
       "    .dataframe tbody tr th {\n",
       "        vertical-align: top;\n",
       "    }\n",
       "\n",
       "    .dataframe thead th {\n",
       "        text-align: right;\n",
       "    }\n",
       "</style>\n",
       "<table border=\"1\" class=\"dataframe\">\n",
       "  <thead>\n",
       "    <tr style=\"text-align: right;\">\n",
       "      <th></th>\n",
       "      <th>今治市</th>\n",
       "      <th>宇和島市</th>\n",
       "      <th>大洲市</th>\n",
       "      <th>西予市</th>\n",
       "      <th>松野町</th>\n",
       "      <th>鬼北町</th>\n",
       "      <th>松山市</th>\n",
       "      <th>八幡浜市</th>\n",
       "    </tr>\n",
       "  </thead>\n",
       "  <tbody>\n",
       "    <tr>\n",
       "      <th>count</th>\n",
       "      <td>12.000000</td>\n",
       "      <td>12.000000</td>\n",
       "      <td>12.000000</td>\n",
       "      <td>12.000000</td>\n",
       "      <td>12.000000</td>\n",
       "      <td>12.000000</td>\n",
       "      <td>12.000000</td>\n",
       "      <td>12.000000</td>\n",
       "    </tr>\n",
       "    <tr>\n",
       "      <th>mean</th>\n",
       "      <td>66.833333</td>\n",
       "      <td>221.916667</td>\n",
       "      <td>353.083333</td>\n",
       "      <td>356.500000</td>\n",
       "      <td>16.750000</td>\n",
       "      <td>18.916667</td>\n",
       "      <td>125.583333</td>\n",
       "      <td>14.833333</td>\n",
       "    </tr>\n",
       "    <tr>\n",
       "      <th>std</th>\n",
       "      <td>40.592954</td>\n",
       "      <td>142.048941</td>\n",
       "      <td>277.277170</td>\n",
       "      <td>314.966809</td>\n",
       "      <td>15.262104</td>\n",
       "      <td>29.234035</td>\n",
       "      <td>92.553138</td>\n",
       "      <td>15.816179</td>\n",
       "    </tr>\n",
       "    <tr>\n",
       "      <th>min</th>\n",
       "      <td>0.000000</td>\n",
       "      <td>35.000000</td>\n",
       "      <td>82.000000</td>\n",
       "      <td>0.000000</td>\n",
       "      <td>0.000000</td>\n",
       "      <td>0.000000</td>\n",
       "      <td>0.000000</td>\n",
       "      <td>0.000000</td>\n",
       "    </tr>\n",
       "    <tr>\n",
       "      <th>25%</th>\n",
       "      <td>40.000000</td>\n",
       "      <td>115.000000</td>\n",
       "      <td>176.500000</td>\n",
       "      <td>179.250000</td>\n",
       "      <td>4.000000</td>\n",
       "      <td>0.000000</td>\n",
       "      <td>86.500000</td>\n",
       "      <td>3.750000</td>\n",
       "    </tr>\n",
       "    <tr>\n",
       "      <th>50%</th>\n",
       "      <td>54.000000</td>\n",
       "      <td>194.000000</td>\n",
       "      <td>253.000000</td>\n",
       "      <td>238.500000</td>\n",
       "      <td>11.500000</td>\n",
       "      <td>6.000000</td>\n",
       "      <td>94.500000</td>\n",
       "      <td>11.000000</td>\n",
       "    </tr>\n",
       "    <tr>\n",
       "      <th>75%</th>\n",
       "      <td>102.750000</td>\n",
       "      <td>322.250000</td>\n",
       "      <td>428.750000</td>\n",
       "      <td>376.500000</td>\n",
       "      <td>28.500000</td>\n",
       "      <td>21.500000</td>\n",
       "      <td>144.250000</td>\n",
       "      <td>18.500000</td>\n",
       "    </tr>\n",
       "    <tr>\n",
       "      <th>max</th>\n",
       "      <td>131.000000</td>\n",
       "      <td>470.000000</td>\n",
       "      <td>1099.000000</td>\n",
       "      <td>1081.000000</td>\n",
       "      <td>44.000000</td>\n",
       "      <td>88.000000</td>\n",
       "      <td>309.000000</td>\n",
       "      <td>50.000000</td>\n",
       "    </tr>\n",
       "  </tbody>\n",
       "</table>\n",
       "</div>"
      ],
      "text/plain": [
       "              今治市        宇和島市          大洲市          西予市        松野町        鬼北町  \\\n",
       "count   12.000000   12.000000    12.000000    12.000000  12.000000  12.000000   \n",
       "mean    66.833333  221.916667   353.083333   356.500000  16.750000  18.916667   \n",
       "std     40.592954  142.048941   277.277170   314.966809  15.262104  29.234035   \n",
       "min      0.000000   35.000000    82.000000     0.000000   0.000000   0.000000   \n",
       "25%     40.000000  115.000000   176.500000   179.250000   4.000000   0.000000   \n",
       "50%     54.000000  194.000000   253.000000   238.500000  11.500000   6.000000   \n",
       "75%    102.750000  322.250000   428.750000   376.500000  28.500000  21.500000   \n",
       "max    131.000000  470.000000  1099.000000  1081.000000  44.000000  88.000000   \n",
       "\n",
       "              松山市       八幡浜市  \n",
       "count   12.000000  12.000000  \n",
       "mean   125.583333  14.833333  \n",
       "std     92.553138  15.816179  \n",
       "min      0.000000   0.000000  \n",
       "25%     86.500000   3.750000  \n",
       "50%     94.500000  11.000000  \n",
       "75%    144.250000  18.500000  \n",
       "max    309.000000  50.000000  "
      ]
     },
     "execution_count": 36,
     "metadata": {},
     "output_type": "execute_result"
    },
    {
     "data": {
      "text/plain": [
       "Text(0.5,0,'月日')"
      ]
     },
     "execution_count": 36,
     "metadata": {},
     "output_type": "execute_result"
    },
    {
     "data": {
      "text/plain": [
       "Text(0,0.5,'人数')"
      ]
     },
     "execution_count": 36,
     "metadata": {},
     "output_type": "execute_result"
    },
    {
     "data": {
      "text/plain": [
       "<matplotlib.legend.Legend at 0x10b04ce10>"
      ]
     },
     "execution_count": 36,
     "metadata": {},
     "output_type": "execute_result"
    },
    {
     "data": {
      "image/png": "[encoded data removed]",
      "text/plain": [
       "<Figure size 1152x720 with 1 Axes>"
      ]
     },
     "metadata": {},
     "output_type": "display_data"
    }
   ],
   "source": [
    "# df = pd.read_excel('assets/data/ehime_volunteer.xlsx')\n",
    "df.replace('', 0, inplace=True)\n",
    "df.fillna(0, inplace=True)\n",
    "\n",
    "df['Date'] = pd.to_datetime(df['Date'], format='%Y-%m-%d')\n",
    "df2 = df.set_index('Date')\n",
    "df2.index.names = ['Date']\n",
    "\n",
    "df2.index = df2.index.strftime(\"%m/%d\")\n",
    "df2 = df2.applymap(int)\n",
    "df2.describe()\n",
    "\n",
    "ax = df2.plot(\n",
    "                        kind='bar', \n",
    "                        figsize=(16,10), \n",
    "                        alpha=0.5,\n",
    "                        title=\"愛媛県ボランティア数（7月）\", \n",
    "                        subplots=False, \n",
    "                        stacked=True,\n",
    "                        fontsize=20)\n",
    "\n",
    "plt.xlabel(\"月日\", fontsize=\"20\")\n",
    "plt.ylabel(\"人数\", fontsize=\"20\")\n",
    "plt.legend(fontsize=\"20\")\n",
    "fig = ax.get_figure()\n",
    "for tick in ax.get_xticklabels():\n",
    "    tick.set_rotation(45)\n",
    "plt.show() \n",
    "fig.savefig('../../assets/images/volunteer_count.png')\n",
    "\n",
    "\n",
    "\n"
   ]
  },
  {
   "cell_type": "code",
   "execution_count": 37,
   "metadata": {
    "ExecuteTime": {
     "end_time": "2018-07-21T11:30:01.000779Z",
     "start_time": "2018-07-21T11:29:58.539346Z"
    }
   },
   "outputs": [
    {
     "name": "stdout",
     "output_type": "stream",
     "text": [
      "Requirement already satisfied: tabulate in /Users/kkd/.pyenv/versions/3.6.5/lib/python3.6/site-packages (0.8.2)\r\n"
     ]
    }
   ],
   "source": [
    "!pip install tabulate\n",
    "from tabulate import tabulate\n",
    "\n",
    "df_table = df.set_index('Date')\n",
    "df_table.index = df_table.index.strftime('%m/%d')\n",
    "df_table.index.name = '日付'\n",
    "\n",
    "table = tabulate(df_table, tablefmt=\"pipe\", headers=\"keys\", showindex=True)"
   ]
  },
  {
   "cell_type": "code",
   "execution_count": 38,
   "metadata": {
    "ExecuteTime": {
     "end_time": "2018-07-21T11:30:02.022354Z",
     "start_time": "2018-07-21T11:30:02.012279Z"
    }
   },
   "outputs": [
    {
     "data": {
      "text/plain": [
       "2178"
      ]
     },
     "execution_count": 38,
     "metadata": {},
     "output_type": "execute_result"
    }
   ],
   "source": [
    "from datetime import datetime as dt\n",
    "with open('template.md') as f:\n",
    "    template = f.read()\n",
    "    \n",
    "    month_day = dt.now().strftime('%m/%d')\n",
    "    timestamp = dt.now().strftime(\"%Y-%m-%d %H:%M:%S\")\n",
    "    \n",
    "    report = template.format(month_day=month_day, timestamp=timestamp, table=table)\n",
    "    \n",
    "    \n",
    "with open('../../_pages/volunteer_aggregation.md', 'w') as f:\n",
    "    f.write(report)\n",
    "    \n",
    "\n",
    "        "
   ]
  }
 ],
 "metadata": {
  "kernelspec": {
   "display_name": "Python 3",
   "language": "python",
   "name": "python3"
  },
  "language_info": {
   "codemirror_mode": {
    "name": "ipython",
    "version": 3
   },
   "file_extension": ".py",
   "mimetype": "text/x-python",
   "name": "python",
   "nbconvert_exporter": "python",
   "pygments_lexer": "ipython3",
   "version": "3.6.5"
  },
  "tdd": {
   "colors": {},
   "moveMenuRight": true,
   "navigate_menu": true,
   "sideBar": true,
   "tdd_cell": false,
   "tdd_section_display": "block",
   "tdd_window_display": false,
   "threshold": 4
  },
  "toc": {
   "base_numbering": 1,
   "nav_menu": {},
   "number_sections": true,
   "sideBar": true,
   "skip_h1_title": false,
   "title_cell": "Table of Contents",
   "title_sidebar": "Contents",
   "toc_cell": false,
   "toc_position": {},
   "toc_section_display": true,
   "toc_window_display": false
  },
  "varInspector": {
   "cols": {
    "lenName": 16,
    "lenType": 16,
    "lenVar": 40
   },
   "kernels_config": {
    "python": {
     "delete_cmd_postfix": "",
     "delete_cmd_prefix": "del ",
     "library": "var_list.py",
     "varRefreshCmd": "print(var_dic_list())"
    },
    "r": {
     "delete_cmd_postfix": ") ",
     "delete_cmd_prefix": "rm(",
     "library": "var_list.r",
     "varRefreshCmd": "cat(var_dic_list()) "
    }
   },
   "types_to_exclude": [
    "module",
    "function",
    "builtin_function_or_method",
    "instance",
    "_Feature"
   ],
   "window_display": false
  }
 },
 "nbformat": 4,
 "nbformat_minor": 2
}
