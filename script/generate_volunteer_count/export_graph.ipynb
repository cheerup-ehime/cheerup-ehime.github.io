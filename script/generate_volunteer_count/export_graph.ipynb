{
 "cells": [
  {
   "cell_type": "code",
   "execution_count": 33,
   "metadata": {
    "ExecuteTime": {
     "end_time": "2018-07-20T09:27:10.310908Z",
     "start_time": "2018-07-20T09:27:10.127583Z"
    }
   },
   "outputs": [],
   "source": [
    "import pandas as pd\n",
    "import numpy as np\n",
    "import matplotlib\n",
    "import matplotlib.pyplot as plt\n",
    "import matplotlib.dates as mdates\n",
    "import seaborn as sns\n",
    "import datetime as dt\n",
    "from IPython.core.interactiveshell import InteractiveShell\n",
    "InteractiveShell.ast_node_interactivity = \"all\"\n",
    "%matplotlib inline\n",
    "font = {'family': 'IPAexGothic'}\n",
    "matplotlib.rc('font', **font)\n",
    "import os\n",
    "import gspread as gs\n",
    "\n",
    "from oauth2client.service_account import ServiceAccountCredentials\n"
   ]
  },
  {
   "cell_type": "code",
   "execution_count": 34,
   "metadata": {
    "ExecuteTime": {
     "end_time": "2018-07-20T09:27:10.428098Z",
     "start_time": "2018-07-20T09:27:10.422470Z"
    }
   },
   "outputs": [],
   "source": [
    "def create_google_client(path):\n",
    "    scope = ['https://spreadsheets.google.com/feeds']\n",
    "    path = os.path.expanduser(path)\n",
    "    credentials = ServiceAccountCredentials.from_json_keyfile_name(path, scope)\n",
    "    client = gs.authorize(credentials)\n",
    "    return client\n"
   ]
  },
  {
   "cell_type": "code",
   "execution_count": 35,
   "metadata": {
    "ExecuteTime": {
     "end_time": "2018-07-20T09:27:11.926475Z",
     "start_time": "2018-07-20T09:27:10.448202Z"
    }
   },
   "outputs": [
    {
     "data": {
      "text/html": [
       "<div>\n",
       "<style scoped>\n",
       "    .dataframe tbody tr th:only-of-type {\n",
       "        vertical-align: middle;\n",
       "    }\n",
       "\n",
       "    .dataframe tbody tr th {\n",
       "        vertical-align: top;\n",
       "    }\n",
       "\n",
       "    .dataframe thead th {\n",
       "        text-align: right;\n",
       "    }\n",
       "</style>\n",
       "<table border=\"1\" class=\"dataframe\">\n",
       "  <thead>\n",
       "    <tr style=\"text-align: right;\">\n",
       "      <th></th>\n",
       "      <th>Date</th>\n",
       "      <th>今治市</th>\n",
       "      <th>宇和島市</th>\n",
       "      <th>大洲市</th>\n",
       "      <th>西予市</th>\n",
       "      <th>松野町</th>\n",
       "      <th>鬼北町</th>\n",
       "      <th>松山市</th>\n",
       "      <th>八幡浜市</th>\n",
       "    </tr>\n",
       "  </thead>\n",
       "  <tbody>\n",
       "    <tr>\n",
       "      <th>0</th>\n",
       "      <td>2018-07-10</td>\n",
       "      <td></td>\n",
       "      <td>35</td>\n",
       "      <td>82</td>\n",
       "      <td></td>\n",
       "      <td></td>\n",
       "      <td></td>\n",
       "      <td></td>\n",
       "      <td></td>\n",
       "    </tr>\n",
       "    <tr>\n",
       "      <th>1</th>\n",
       "      <td>2018-07-11</td>\n",
       "      <td>71</td>\n",
       "      <td>76</td>\n",
       "      <td>177</td>\n",
       "      <td>201</td>\n",
       "      <td></td>\n",
       "      <td>9</td>\n",
       "      <td>85</td>\n",
       "      <td>7</td>\n",
       "    </tr>\n",
       "    <tr>\n",
       "      <th>2</th>\n",
       "      <td>2018-07-12</td>\n",
       "      <td>50</td>\n",
       "      <td>74</td>\n",
       "      <td>284</td>\n",
       "      <td>180</td>\n",
       "      <td>13</td>\n",
       "      <td>12</td>\n",
       "      <td>38</td>\n",
       "      <td>8</td>\n",
       "    </tr>\n",
       "    <tr>\n",
       "      <th>3</th>\n",
       "      <td>2018-07-13</td>\n",
       "      <td>41</td>\n",
       "      <td>198</td>\n",
       "      <td>333</td>\n",
       "      <td>267</td>\n",
       "      <td>33</td>\n",
       "      <td>9</td>\n",
       "      <td>87</td>\n",
       "      <td>15</td>\n",
       "    </tr>\n",
       "    <tr>\n",
       "      <th>4</th>\n",
       "      <td>2018-07-14</td>\n",
       "      <td>131</td>\n",
       "      <td>415</td>\n",
       "      <td>587</td>\n",
       "      <td>823</td>\n",
       "      <td>27</td>\n",
       "      <td>88</td>\n",
       "      <td>309</td>\n",
       "      <td>50</td>\n",
       "    </tr>\n",
       "    <tr>\n",
       "      <th>5</th>\n",
       "      <td>2018-07-15</td>\n",
       "      <td>126</td>\n",
       "      <td>374</td>\n",
       "      <td>1099</td>\n",
       "      <td>1081</td>\n",
       "      <td>44</td>\n",
       "      <td>56</td>\n",
       "      <td>262</td>\n",
       "      <td>36</td>\n",
       "    </tr>\n",
       "    <tr>\n",
       "      <th>6</th>\n",
       "      <td>2018-07-16</td>\n",
       "      <td>102</td>\n",
       "      <td>305</td>\n",
       "      <td>491</td>\n",
       "      <td>591</td>\n",
       "      <td>37</td>\n",
       "      <td>50</td>\n",
       "      <td>232</td>\n",
       "      <td>29</td>\n",
       "    </tr>\n",
       "    <tr>\n",
       "      <th>7</th>\n",
       "      <td>2018-07-17</td>\n",
       "      <td>37</td>\n",
       "      <td>157</td>\n",
       "      <td>222</td>\n",
       "      <td>210</td>\n",
       "      <td>4</td>\n",
       "      <td>3</td>\n",
       "      <td>100</td>\n",
       "      <td></td>\n",
       "    </tr>\n",
       "    <tr>\n",
       "      <th>8</th>\n",
       "      <td>2018-07-18</td>\n",
       "      <td>37</td>\n",
       "      <td>241</td>\n",
       "      <td>205</td>\n",
       "      <td>149</td>\n",
       "      <td>4</td>\n",
       "      <td>0</td>\n",
       "      <td>88</td>\n",
       "      <td>14</td>\n",
       "    </tr>\n",
       "    <tr>\n",
       "      <th>9</th>\n",
       "      <td>2018-07-19</td>\n",
       "      <td>58</td>\n",
       "      <td>190</td>\n",
       "      <td>174</td>\n",
       "      <td>294</td>\n",
       "      <td>8</td>\n",
       "      <td>0</td>\n",
       "      <td>89</td>\n",
       "      <td>14</td>\n",
       "    </tr>\n",
       "    <tr>\n",
       "      <th>10</th>\n",
       "      <td>2018-07-20</td>\n",
       "      <td>44</td>\n",
       "      <td>128</td>\n",
       "      <td>175</td>\n",
       "      <td>177</td>\n",
       "      <td>10</td>\n",
       "      <td>0</td>\n",
       "      <td>102</td>\n",
       "      <td>5</td>\n",
       "    </tr>\n",
       "  </tbody>\n",
       "</table>\n",
       "</div>"
      ],
      "text/plain": [
       "          Date  今治市 宇和島市   大洲市   西予市 松野町 鬼北町  松山市 八幡浜市\n",
       "0   2018-07-10        35    82                        \n",
       "1   2018-07-11   71   76   177   201       9   85    7\n",
       "2   2018-07-12   50   74   284   180  13  12   38    8\n",
       "3   2018-07-13   41  198   333   267  33   9   87   15\n",
       "4   2018-07-14  131  415   587   823  27  88  309   50\n",
       "5   2018-07-15  126  374  1099  1081  44  56  262   36\n",
       "6   2018-07-16  102  305   491   591  37  50  232   29\n",
       "7   2018-07-17   37  157   222   210   4   3  100     \n",
       "8   2018-07-18   37  241   205   149   4   0   88   14\n",
       "9   2018-07-19   58  190   174   294   8   0   89   14\n",
       "10  2018-07-20   44  128   175   177  10   0  102    5"
      ]
     },
     "execution_count": 35,
     "metadata": {},
     "output_type": "execute_result"
    }
   ],
   "source": [
    "\n",
    "path = '/Users/kkd/.credential/Dataprep-770b3144dc97.json'\n",
    "doc_url = 'https://docs.google.com/spreadsheets/d/1h-GFHoNa55P96wu_HNbPk899eN4HZcnu1T9q4eag8Uc/edit?usp=sharing'\n",
    "\n",
    "client = create_google_client(path)\n",
    "gfile = client.open_by_url(doc_url)\n",
    "worksheet = gfile.worksheet('volunteer')\n",
    "records = worksheet.get_all_values()\n",
    "cols_name = records[0]\n",
    "data = records[1:]\n",
    "df = pd.DataFrame(data=data, columns=cols_name)\n",
    "df"
   ]
  },
  {
   "cell_type": "markdown",
   "metadata": {},
   "source": [
    "## Excelデータを元にグラフを出力\n",
    "\n",
    "Excelファイルは[Google Drive](https://docs.google.com/spreadsheets/d/1h-GFHoNa55P96wu_HNbPk899eN4HZcnu1T9q4eag8Uc/edit#gid=0)からダウンロードした後で読み込んでいる。\n",
    "(直接読み込むようにしたい。。。）"
   ]
  },
  {
   "cell_type": "code",
   "execution_count": 36,
   "metadata": {
    "ExecuteTime": {
     "end_time": "2018-07-20T09:27:13.103649Z",
     "start_time": "2018-07-20T09:27:11.943688Z"
    }
   },
   "outputs": [
    {
     "data": {
      "text/html": [
       "<div>\n",
       "<style scoped>\n",
       "    .dataframe tbody tr th:only-of-type {\n",
       "        vertical-align: middle;\n",
       "    }\n",
       "\n",
       "    .dataframe tbody tr th {\n",
       "        vertical-align: top;\n",
       "    }\n",
       "\n",
       "    .dataframe thead th {\n",
       "        text-align: right;\n",
       "    }\n",
       "</style>\n",
       "<table border=\"1\" class=\"dataframe\">\n",
       "  <thead>\n",
       "    <tr style=\"text-align: right;\">\n",
       "      <th></th>\n",
       "      <th>今治市</th>\n",
       "      <th>宇和島市</th>\n",
       "      <th>大洲市</th>\n",
       "      <th>西予市</th>\n",
       "      <th>松野町</th>\n",
       "      <th>鬼北町</th>\n",
       "      <th>松山市</th>\n",
       "      <th>八幡浜市</th>\n",
       "    </tr>\n",
       "  </thead>\n",
       "  <tbody>\n",
       "    <tr>\n",
       "      <th>count</th>\n",
       "      <td>11.000000</td>\n",
       "      <td>11.000000</td>\n",
       "      <td>11.000000</td>\n",
       "      <td>11.000000</td>\n",
       "      <td>11.000000</td>\n",
       "      <td>11.000000</td>\n",
       "      <td>11.000000</td>\n",
       "      <td>11.000000</td>\n",
       "    </tr>\n",
       "    <tr>\n",
       "      <th>mean</th>\n",
       "      <td>63.363636</td>\n",
       "      <td>199.363636</td>\n",
       "      <td>348.090909</td>\n",
       "      <td>361.181818</td>\n",
       "      <td>16.363636</td>\n",
       "      <td>20.636364</td>\n",
       "      <td>126.545455</td>\n",
       "      <td>16.181818</td>\n",
       "    </tr>\n",
       "    <tr>\n",
       "      <th>std</th>\n",
       "      <td>40.665151</td>\n",
       "      <td>124.425297</td>\n",
       "      <td>290.244536</td>\n",
       "      <td>329.901748</td>\n",
       "      <td>15.945361</td>\n",
       "      <td>30.017571</td>\n",
       "      <td>97.007591</td>\n",
       "      <td>15.848143</td>\n",
       "    </tr>\n",
       "    <tr>\n",
       "      <th>min</th>\n",
       "      <td>0.000000</td>\n",
       "      <td>35.000000</td>\n",
       "      <td>82.000000</td>\n",
       "      <td>0.000000</td>\n",
       "      <td>0.000000</td>\n",
       "      <td>0.000000</td>\n",
       "      <td>0.000000</td>\n",
       "      <td>0.000000</td>\n",
       "    </tr>\n",
       "    <tr>\n",
       "      <th>25%</th>\n",
       "      <td>39.000000</td>\n",
       "      <td>102.000000</td>\n",
       "      <td>176.000000</td>\n",
       "      <td>178.500000</td>\n",
       "      <td>4.000000</td>\n",
       "      <td>0.000000</td>\n",
       "      <td>86.000000</td>\n",
       "      <td>6.000000</td>\n",
       "    </tr>\n",
       "    <tr>\n",
       "      <th>50%</th>\n",
       "      <td>50.000000</td>\n",
       "      <td>190.000000</td>\n",
       "      <td>222.000000</td>\n",
       "      <td>210.000000</td>\n",
       "      <td>10.000000</td>\n",
       "      <td>9.000000</td>\n",
       "      <td>89.000000</td>\n",
       "      <td>14.000000</td>\n",
       "    </tr>\n",
       "    <tr>\n",
       "      <th>75%</th>\n",
       "      <td>86.500000</td>\n",
       "      <td>273.000000</td>\n",
       "      <td>412.000000</td>\n",
       "      <td>442.500000</td>\n",
       "      <td>30.000000</td>\n",
       "      <td>31.000000</td>\n",
       "      <td>167.000000</td>\n",
       "      <td>22.000000</td>\n",
       "    </tr>\n",
       "    <tr>\n",
       "      <th>max</th>\n",
       "      <td>131.000000</td>\n",
       "      <td>415.000000</td>\n",
       "      <td>1099.000000</td>\n",
       "      <td>1081.000000</td>\n",
       "      <td>44.000000</td>\n",
       "      <td>88.000000</td>\n",
       "      <td>309.000000</td>\n",
       "      <td>50.000000</td>\n",
       "    </tr>\n",
       "  </tbody>\n",
       "</table>\n",
       "</div>"
      ],
      "text/plain": [
       "              今治市        宇和島市          大洲市          西予市        松野町        鬼北町  \\\n",
       "count   11.000000   11.000000    11.000000    11.000000  11.000000  11.000000   \n",
       "mean    63.363636  199.363636   348.090909   361.181818  16.363636  20.636364   \n",
       "std     40.665151  124.425297   290.244536   329.901748  15.945361  30.017571   \n",
       "min      0.000000   35.000000    82.000000     0.000000   0.000000   0.000000   \n",
       "25%     39.000000  102.000000   176.000000   178.500000   4.000000   0.000000   \n",
       "50%     50.000000  190.000000   222.000000   210.000000  10.000000   9.000000   \n",
       "75%     86.500000  273.000000   412.000000   442.500000  30.000000  31.000000   \n",
       "max    131.000000  415.000000  1099.000000  1081.000000  44.000000  88.000000   \n",
       "\n",
       "              松山市       八幡浜市  \n",
       "count   11.000000  11.000000  \n",
       "mean   126.545455  16.181818  \n",
       "std     97.007591  15.848143  \n",
       "min      0.000000   0.000000  \n",
       "25%     86.000000   6.000000  \n",
       "50%     89.000000  14.000000  \n",
       "75%    167.000000  22.000000  \n",
       "max    309.000000  50.000000  "
      ]
     },
     "execution_count": 36,
     "metadata": {},
     "output_type": "execute_result"
    },
    {
     "data": {
      "text/plain": [
       "Text(0.5,0,'月日')"
      ]
     },
     "execution_count": 36,
     "metadata": {},
     "output_type": "execute_result"
    },
    {
     "data": {
      "text/plain": [
       "Text(0,0.5,'人数')"
      ]
     },
     "execution_count": 36,
     "metadata": {},
     "output_type": "execute_result"
    },
    {
     "data": {
      "text/plain": [
       "<matplotlib.legend.Legend at 0x11ab3a940>"
      ]
     },
     "execution_count": 36,
     "metadata": {},
     "output_type": "execute_result"
    },
    {
     "data": {
      "image/png": "[encoded data removed]",
      "text/plain": [
       "<Figure size 1152x720 with 1 Axes>"
      ]
     },
     "metadata": {},
     "output_type": "display_data"
    }
   ],
   "source": [
    "# df = pd.read_excel('assets/data/ehime_volunteer.xlsx')\n",
    "df.replace('', 0, inplace=True)\n",
    "df.fillna(0, inplace=True)\n",
    "\n",
    "df['Date'] = pd.to_datetime(df['Date'], format='%Y-%m-%d')\n",
    "df2 = df.set_index('Date')\n",
    "df2.index.names = ['Date']\n",
    "\n",
    "df2.index = df2.index.strftime(\"%m/%d\")\n",
    "df2 = df2.applymap(int)\n",
    "df2.describe()\n",
    "\n",
    "ax = df2.plot(\n",
    "                        kind='bar', \n",
    "                        figsize=(16,10), \n",
    "                        alpha=0.5,\n",
    "                        title=\"愛媛県ボランティア数（7月）\", \n",
    "                        subplots=False, \n",
    "                        stacked=True,\n",
    "                        fontsize=20)\n",
    "\n",
    "plt.xlabel(\"月日\", fontsize=\"20\")\n",
    "plt.ylabel(\"人数\", fontsize=\"20\")\n",
    "plt.legend(fontsize=\"20\")\n",
    "fig = ax.get_figure()\n",
    "for tick in ax.get_xticklabels():\n",
    "    tick.set_rotation(45)\n",
    "plt.show() \n",
    "fig.savefig('assets/images/volunteer_count.png')\n",
    "\n",
    "\n",
    "\n"
   ]
  },
  {
   "cell_type": "code",
   "execution_count": 43,
   "metadata": {
    "ExecuteTime": {
     "end_time": "2018-07-20T09:36:28.187892Z",
     "start_time": "2018-07-20T09:36:26.477068Z"
    }
   },
   "outputs": [
    {
     "name": "stdout",
     "output_type": "stream",
     "text": [
      "Requirement already satisfied: tabulate in /Users/kkd/.pyenv/versions/3.6.5/lib/python3.6/site-packages (0.8.2)\r\n"
     ]
    },
    {
     "ename": "AttributeError",
     "evalue": "'Series' object has no attribute 'strftime'",
     "output_type": "error",
     "traceback": [
      "\u001b[0;31m---------------------------------------------------------------------------\u001b[0m",
      "\u001b[0;31mAttributeError\u001b[0m                            Traceback (most recent call last)",
      "\u001b[0;32m<ipython-input-43-75ad9745a01d>\u001b[0m in \u001b[0;36m<module>\u001b[0;34m()\u001b[0m\n\u001b[1;32m      2\u001b[0m \u001b[0;32mfrom\u001b[0m \u001b[0mtabulate\u001b[0m \u001b[0;32mimport\u001b[0m \u001b[0mtabulate\u001b[0m\u001b[0;34m\u001b[0m\u001b[0m\n\u001b[1;32m      3\u001b[0m \u001b[0;34m\u001b[0m\u001b[0m\n\u001b[0;32m----> 4\u001b[0;31m \u001b[0mdf\u001b[0m\u001b[0;34m.\u001b[0m\u001b[0mDate\u001b[0m\u001b[0;34m.\u001b[0m\u001b[0mstrftime\u001b[0m\u001b[0;34m(\u001b[0m\u001b[0;34m'%m/%d'\u001b[0m\u001b[0;34m)\u001b[0m\u001b[0;34m\u001b[0m\u001b[0m\n\u001b[0m\u001b[1;32m      5\u001b[0m \u001b[0;34m\u001b[0m\u001b[0m\n\u001b[1;32m      6\u001b[0m \u001b[0mprint\u001b[0m\u001b[0;34m(\u001b[0m\u001b[0mtabulate\u001b[0m\u001b[0;34m(\u001b[0m\u001b[0mdf\u001b[0m\u001b[0;34m,\u001b[0m \u001b[0mtablefmt\u001b[0m\u001b[0;34m=\u001b[0m\u001b[0;34m\"markdown\"\u001b[0m\u001b[0;34m,\u001b[0m \u001b[0mheaders\u001b[0m\u001b[0;34m=\u001b[0m\u001b[0;34m\"keys\"\u001b[0m\u001b[0;34m,\u001b[0m \u001b[0mshowindex\u001b[0m\u001b[0;34m=\u001b[0m\u001b[0;32mFalse\u001b[0m\u001b[0;34m)\u001b[0m\u001b[0;34m)\u001b[0m\u001b[0;34m\u001b[0m\u001b[0m\n",
      "\u001b[0;32m~/.pyenv/versions/3.6.5/lib/python3.6/site-packages/pandas/core/generic.py\u001b[0m in \u001b[0;36m__getattr__\u001b[0;34m(self, name)\u001b[0m\n\u001b[1;32m   4370\u001b[0m             \u001b[0;32mif\u001b[0m \u001b[0mself\u001b[0m\u001b[0;34m.\u001b[0m\u001b[0m_info_axis\u001b[0m\u001b[0;34m.\u001b[0m\u001b[0m_can_hold_identifiers_and_holds_name\u001b[0m\u001b[0;34m(\u001b[0m\u001b[0mname\u001b[0m\u001b[0;34m)\u001b[0m\u001b[0;34m:\u001b[0m\u001b[0;34m\u001b[0m\u001b[0m\n\u001b[1;32m   4371\u001b[0m                 \u001b[0;32mreturn\u001b[0m \u001b[0mself\u001b[0m\u001b[0;34m[\u001b[0m\u001b[0mname\u001b[0m\u001b[0;34m]\u001b[0m\u001b[0;34m\u001b[0m\u001b[0m\n\u001b[0;32m-> 4372\u001b[0;31m             \u001b[0;32mreturn\u001b[0m \u001b[0mobject\u001b[0m\u001b[0;34m.\u001b[0m\u001b[0m__getattribute__\u001b[0m\u001b[0;34m(\u001b[0m\u001b[0mself\u001b[0m\u001b[0;34m,\u001b[0m \u001b[0mname\u001b[0m\u001b[0;34m)\u001b[0m\u001b[0;34m\u001b[0m\u001b[0m\n\u001b[0m\u001b[1;32m   4373\u001b[0m \u001b[0;34m\u001b[0m\u001b[0m\n\u001b[1;32m   4374\u001b[0m     \u001b[0;32mdef\u001b[0m \u001b[0m__setattr__\u001b[0m\u001b[0;34m(\u001b[0m\u001b[0mself\u001b[0m\u001b[0;34m,\u001b[0m \u001b[0mname\u001b[0m\u001b[0;34m,\u001b[0m \u001b[0mvalue\u001b[0m\u001b[0;34m)\u001b[0m\u001b[0;34m:\u001b[0m\u001b[0;34m\u001b[0m\u001b[0m\n",
      "\u001b[0;31mAttributeError\u001b[0m: 'Series' object has no attribute 'strftime'"
     ]
    }
   ],
   "source": [
    "!pip install tabulate\n",
    "from tabulate import tabulate\n",
    "\n",
    "df.Date.strftime('%m/%d')\n",
    "\n",
    "print(tabulate(df, tablefmt=\"markdown\", headers=\"keys\", showindex=False))"
   ]
  }
 ],
 "metadata": {
  "kernelspec": {
   "display_name": "Python 3",
   "language": "python",
   "name": "python3"
  },
  "language_info": {
   "codemirror_mode": {
    "name": "ipython",
    "version": 3
   },
   "file_extension": ".py",
   "mimetype": "text/x-python",
   "name": "python",
   "nbconvert_exporter": "python",
   "pygments_lexer": "ipython3",
   "version": "3.6.5"
  },
  "tdd": {
   "colors": {},
   "moveMenuRight": true,
   "navigate_menu": true,
   "sideBar": true,
   "tdd_cell": false,
   "tdd_section_display": "block",
   "tdd_window_display": false,
   "threshold": 4
  },
  "toc": {
   "base_numbering": 1,
   "nav_menu": {},
   "number_sections": true,
   "sideBar": true,
   "skip_h1_title": false,
   "title_cell": "Table of Contents",
   "title_sidebar": "Contents",
   "toc_cell": false,
   "toc_position": {},
   "toc_section_display": true,
   "toc_window_display": false
  },
  "varInspector": {
   "cols": {
    "lenName": 16,
    "lenType": 16,
    "lenVar": 40
   },
   "kernels_config": {
    "python": {
     "delete_cmd_postfix": "",
     "delete_cmd_prefix": "del ",
     "library": "var_list.py",
     "varRefreshCmd": "print(var_dic_list())"
    },
    "r": {
     "delete_cmd_postfix": ") ",
     "delete_cmd_prefix": "rm(",
     "library": "var_list.r",
     "varRefreshCmd": "cat(var_dic_list()) "
    }
   },
   "types_to_exclude": [
    "module",
    "function",
    "builtin_function_or_method",
    "instance",
    "_Feature"
   ],
   "window_display": false
  }
 },
 "nbformat": 4,
 "nbformat_minor": 2
}
